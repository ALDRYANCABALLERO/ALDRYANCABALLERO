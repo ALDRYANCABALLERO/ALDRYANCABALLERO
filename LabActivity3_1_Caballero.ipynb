{
  "nbformat": 4,
  "nbformat_minor": 0,
  "metadata": {
    "colab": {
      "provenance": [],
      "authorship_tag": "ABX9TyNDalUhnxLLxd0SI3NP5JGM",
      "include_colab_link": true
    },
    "kernelspec": {
      "name": "python3",
      "display_name": "Python 3"
    },
    "language_info": {
      "name": "python"
    }
  },
  "cells": [
    {
      "cell_type": "markdown",
      "metadata": {
        "id": "view-in-github",
        "colab_type": "text"
      },
      "source": [
        "<a href=\"https://colab.research.google.com/github/ALDRYANCABALLERO/ALDRYANCABALLERO/blob/main/LabActivity3_1_Caballero.ipynb\" target=\"_parent\"><img src=\"https://colab.research.google.com/assets/colab-badge.svg\" alt=\"Open In Colab\"/></a>"
      ]
    },
    {
      "cell_type": "code",
      "execution_count": null,
      "metadata": {
        "colab": {
          "base_uri": "https://localhost:8080/"
        },
        "id": "o9R_WrWmUh7k",
        "outputId": "d0f9efdc-a904-4af0-8d8b-831b380c8b0c"
      },
      "outputs": [
        {
          "output_type": "stream",
          "name": "stdout",
          "text": [
            "Average Fare per Month for Business Travellers (PA from Davao to Manila in 2023):\n",
            "  traveller  departure_month  avg_fare\n",
            "0     Alice                1    4800.0\n",
            "1       Bob                3    5200.0\n",
            "2      John                1    4500.0\n",
            "\n",
            "Filtered Data Cube:\n",
            "Empty DataFrame\n",
            "Columns: [(traveller, ), (departure_city, ), (departure_time, ), (arrival_city, ), (arrival_time, ), (flight, ), (avg_fare, count), (avg_fare, mean)]\n",
            "Index: []\n"
          ]
        },
        {
          "output_type": "stream",
          "name": "stderr",
          "text": [
            "<ipython-input-5-5c63a137310e>:28: SettingWithCopyWarning: \n",
            "A value is trying to be set on a copy of a slice from a DataFrame.\n",
            "Try using .loc[row_indexer,col_indexer] = value instead\n",
            "\n",
            "See the caveats in the documentation: https://pandas.pydata.org/pandas-docs/stable/user_guide/indexing.html#returning-a-view-versus-a-copy\n",
            "  filtered_df['departure_month'] = filtered_df['departure_time'].dt.month\n"
          ]
        }
      ],
      "source": [
        "\n",
        "import numpy as np\n",
        "\n",
        "# Sample flight data (replace with actual data)\n",
        "data = {\n",
        "    'traveller': ['John', 'Alice', 'Bob', 'Alice', 'John'],\n",
        "    'departure_city': ['Davao', 'Manila', 'Davao', 'Davao', 'Manila'],\n",
        "    'departure_time': ['2023-01-15', '2023-02-20', '2023-03-10', '2023-01-05', '2023-02-28'],\n",
        "    'arrival_city': ['Manila', 'Davao', 'Manila', 'Manila', 'Davao'],\n",
        "    'arrival_time': ['2023-01-16', '2023-02-21', '2023-03-11', '2023-01-06', '2023-03-01'],\n",
        "    'flight': ['PA123', 'PA456', 'PA789', 'PA234', 'PA567'],\n",
        "    'avg_fare': [4500, 6000, 5200, 4800, 5500]\n",
        "}\n",
        "\n",
        "# Create DataFrame\n",
        "df = pd.DataFrame(data)\n",
        "\n",
        "# Convert date columns to datetime\n",
        "df['departure_time'] = pd.to_datetime(df['departure_time'])\n",
        "df['arrival_time'] = pd.to_datetime(df['arrival_time'])\n",
        "\n",
        "# Filter for Philippine Airlines (PA) flights from Davao to Manila in 2023\n",
        "filtered_df = df[(df['departure_city'] == 'Davao') &\n",
        "                 (df['arrival_city'] == 'Manila') &\n",
        "                 (df['departure_time'].dt.year == 2023) &\n",
        "                 (df['flight'].str.startswith('PA'))]\n",
        "\n",
        "# Roll-up to month level and calculate average fare per month for each traveller\n",
        "filtered_df['departure_month'] = filtered_df['departure_time'].dt.month\n",
        "result = filtered_df.groupby(['traveller', 'departure_month'])['avg_fare'].mean().reset_index()\n",
        "\n",
        "print(\"Average Fare per Month for Business Travellers (PA from Davao to Manila in 2023):\")\n",
        "print(result)\n",
        "\n",
        "# Efficient cube computation with conditions (minimum 10 records and avg fare > Php 5,000.00)\n",
        "cube = df.groupby(['traveller', 'departure_city', 'departure_time', 'arrival_city', 'arrival_time', 'flight']).agg(\n",
        "    {'avg_fare': ['count', 'mean']}).reset_index()\n",
        "\n",
        "# Apply conditions to filter cube\n",
        "filtered_cube = cube[(cube[('avg_fare', 'count')] >= 10) & (cube[('avg_fare', 'mean')] > 5000)]\n",
        "\n",
        "print(\"\\nFiltered Data Cube:\")\n",
        "print(filtered_cube)"
      ]
    }
  ]
}