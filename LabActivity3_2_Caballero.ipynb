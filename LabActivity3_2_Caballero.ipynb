{
  "nbformat": 4,
  "nbformat_minor": 0,
  "metadata": {
    "colab": {
      "provenance": [],
      "authorship_tag": "ABX9TyOoPyRNV1B032LeGwdlT/jt",
      "include_colab_link": true
    },
    "kernelspec": {
      "name": "python3",
      "display_name": "Python 3"
    },
    "language_info": {
      "name": "python"
    }
  },
  "cells": [
    {
      "cell_type": "markdown",
      "metadata": {
        "id": "view-in-github",
        "colab_type": "text"
      },
      "source": [
        "<a href=\"https://colab.research.google.com/github/ALDRYANCABALLERO/ALDRYANCABALLERO/blob/main/LabActivity3_2_Caballero.ipynb\" target=\"_parent\"><img src=\"https://colab.research.google.com/assets/colab-badge.svg\" alt=\"Open In Colab\"/></a>"
      ]
    },
    {
      "cell_type": "code",
      "execution_count": null,
      "metadata": {
        "colab": {
          "base_uri": "https://localhost:8080/"
        },
        "id": "o9R_WrWmUh7k",
        "outputId": "2d1f46af-01ae-4102-c8c6-769295f8a3c3"
      },
      "outputs": [
        {
          "output_type": "stream",
          "name": "stdout",
          "text": [
            "Total Sales (Across All Dimensions): 37004\n",
            "\n",
            "Monthly Sales:\n",
            "Jan: 13102\n",
            "Feb: 11546\n",
            "Mar: 12356\n",
            "\n",
            "Category-wise Sales:\n",
            "Electronics: 18878\n",
            "Clothing: 18126\n",
            "\n",
            "Region-wise Sales:\n",
            "North: 17888\n",
            "South: 19116\n"
          ]
        }
      ],
      "source": [
        "\n",
        "import numpy as np\n",
        "\n",
        "# Define dimensions and sample data\n",
        "months = ['Jan', 'Feb', 'Mar']\n",
        "categories = ['Electronics', 'Clothing']\n",
        "regions = ['North', 'South']\n",
        "\n",
        "# Generate sample sales data (3 months, 2 categories, 2 regions)\n",
        "sales_data = np.random.randint(1000, 5000, size=(3, 2, 2))\n",
        "\n",
        "# Compute total sales across all dimensions\n",
        "total_sales = np.sum(sales_data)\n",
        "print(\"Total Sales (Across All Dimensions):\", total_sales)\n",
        "\n",
        "# Compute total sales per month, category, and region\n",
        "monthly_sales = np.sum(sales_data, axis=(1, 2))\n",
        "category_sales = np.sum(sales_data, axis=(0, 2))\n",
        "region_sales = np.sum(sales_data, axis=(0, 1))\n",
        "\n",
        "# Display aggregated sales results\n",
        "print(\"\\nMonthly Sales:\")\n",
        "for i, month in enumerate(months):\n",
        "    print(f\"{month}: {monthly_sales[i]}\")\n",
        "\n",
        "print(\"\\nCategory-wise Sales:\")\n",
        "for i, category in enumerate(categories):\n",
        "    print(f\"{category}: {category_sales[i]}\")\n",
        "\n",
        "print(\"\\nRegion-wise Sales:\")\n",
        "for i, region in enumerate(regions):\n",
        "    print(f\"{region}: {region_sales[i]}\")"
      ]
    }
  ]
}