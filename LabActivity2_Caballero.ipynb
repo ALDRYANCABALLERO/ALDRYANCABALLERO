{
  "nbformat": 4,
  "nbformat_minor": 0,
  "metadata": {
    "colab": {
      "provenance": [],
      "include_colab_link": true
    },
    "kernelspec": {
      "name": "python3",
      "display_name": "Python 3"
    },
    "language_info": {
      "name": "python"
    }
  },
  "cells": [
    {
      "cell_type": "markdown",
      "metadata": {
        "id": "view-in-github",
        "colab_type": "text"
      },
      "source": [
        "<a href=\"https://colab.research.google.com/github/ALDRYANCABALLERO/ALDRYANCABALLERO/blob/main/LabActivity2_Caballero.ipynb\" target=\"_parent\"><img src=\"https://colab.research.google.com/assets/colab-badge.svg\" alt=\"Open In Colab\"/></a>"
      ]
    },
    {
      "cell_type": "code",
      "execution_count": null,
      "metadata": {
        "id": "-2FQYvkN6mPx"
      },
      "outputs": [],
      "source": []
    },
    {
      "cell_type": "code",
      "source": [
        "# importing the following packages that is needed\n",
        "\n",
        "import os\n",
        "import numpy as np\n",
        "import pandas as pd\n",
        "import matplotlib.pyplot as plt\n",
        "import seaborn as sns\n",
        "import warnings\n",
        "\n",
        "# Suppress warnings\n",
        "warnings.filterwarnings(\"ignore\")"
      ],
      "metadata": {
        "id": "eOe2K4F37WyR"
      },
      "execution_count": null,
      "outputs": []
    },
    {
      "cell_type": "code",
      "source": [
        "# Load dataset from Google Drive\n",
        "\n",
        "from google.colab import drive\n",
        "drive.mount('/content/drive')\n",
        "\n",
        "file_path = '/content/drive/My Drive/ITBAN3/loans.csv'\n",
        "df = pd.read_csv(file_path, index_col=\"client_id\")"
      ],
      "metadata": {
        "colab": {
          "base_uri": "https://localhost:8080/"
        },
        "id": "yPXmu0IK8sQK",
        "outputId": "2f0eec1e-8562-4e8a-a9fd-1ca096ab1933"
      },
      "execution_count": null,
      "outputs": [
        {
          "output_type": "stream",
          "name": "stdout",
          "text": [
            "Mounted at /content/drive\n"
          ]
        }
      ]
    },
    {
      "cell_type": "code",
      "source": [
        "# Displaying the first 5 rows\n",
        "\n",
        "print(df.head(5))\n",
        "\n"
      ],
      "metadata": {
        "id": "doleQ-Bm9PlK"
      },
      "execution_count": null,
      "outputs": []
    },
    {
      "cell_type": "code",
      "source": [
        "# Check dataset info\n",
        "\n",
        "print(df.info(5))\n"
      ],
      "metadata": {
        "id": "lt1hF7XR-G0F"
      },
      "execution_count": null,
      "outputs": []
    },
    {
      "cell_type": "code",
      "source": [
        "# Check for missing values\n",
        "\n",
        "print(df.isnull().sum())\n"
      ],
      "metadata": {
        "id": "suj3vDJk_DVx"
      },
      "execution_count": null,
      "outputs": []
    },
    {
      "cell_type": "code",
      "source": [
        "# Boxplot for numerical columns\n",
        "\n",
        "plt.figure(figsize=(10,6))\n",
        "sns.boxplot(data=df)\n",
        "plt.title(\"Boxplot of Numerical Columns\")\n",
        "plt.xticks(rotation=45)\n",
        "plt.show()\n"
      ],
      "metadata": {
        "id": "7Vzufcql_Goc"
      },
      "execution_count": null,
      "outputs": []
    },
    {
      "cell_type": "code",
      "source": [
        "# Treat outliers using SQRT transformation\n",
        "\n",
        "df_sqrt = np.sqrt(df)\n"
      ],
      "metadata": {
        "id": "mMC7OHHO_b1Z"
      },
      "execution_count": null,
      "outputs": []
    },
    {
      "cell_type": "code",
      "source": [
        "# Treat outliers using Z-score capping\n",
        "\n",
        "from scipy import stats\n",
        "\n",
        "z_scores = stats.zscore(df)\n",
        "abs_z_scores = np.abs(z_scores)\n",
        "filtered_entries = (abs_z_scores < 3).all(axis=1)\n",
        "df_zscore = df[filtered_entries]\n"
      ],
      "metadata": {
        "id": "14V_m_pX_cnI"
      },
      "execution_count": null,
      "outputs": []
    },
    {
      "cell_type": "code",
      "source": [
        "# Min-Max Normalization\n",
        "\n",
        "from sklearn.preprocessing import MinMaxScaler\n",
        "\n",
        "scaler = MinMaxScaler()\n",
        "numerical_cols = df.select_dtypes(include=np.number).columns.tolist()\n",
        "df[numerical_cols] = scaler.fit_transform(df[numerical_cols])\n",
        "\n",
        "# Skewness and Kurtosis\n",
        "\n",
        "for col in numerical_cols:\n",
        "    print(f\"Skewness of {col}: {df[col].skew()}\")\n",
        "    print(f\"Kurtosis of {col}: {df[col].kurtosis()}\")\n"
      ],
      "metadata": {
        "id": "t43MrKLw_rMe"
      },
      "execution_count": null,
      "outputs": []
    },
    {
      "cell_type": "code",
      "source": [
        "# Encoding categorical variables\n",
        "\n",
        "df = pd.get_dummies(df)\n",
        "\n",
        "# Display first 5 rows\n",
        "\n",
        "print(df.head())\n"
      ],
      "metadata": {
        "id": "pBlTTchG_ytX"
      },
      "execution_count": null,
      "outputs": []
    },
    {
      "cell_type": "code",
      "source": [
        "# Convert loan_start and loan_end to datetime\n",
        "\n",
        "df['loan_start'] = pd.to_datetime(df['loan_start'])\n",
        "df['loan_end'] = pd.to_datetime(df['loan_end'])\n",
        "\n",
        "# Calculate tenure of loan\n",
        "\n",
        "df['loan_tenure'] = (df['loan_end'] - df['loan_start']).dt.days\n"
      ],
      "metadata": {
        "id": "LkgGJUqd_3cV"
      },
      "execution_count": null,
      "outputs": []
    },
    {
      "cell_type": "code",
      "source": [
        "# Split data into features and target variable\n",
        "\n",
        "X = df.drop(columns=['target_variable'])  # Assuming 'target_variable' is the name of your target column\n",
        "y = df['target_variable']\n",
        "\n",
        "# Split into training and test sets\n",
        "\n",
        "from sklearn.model_selection import train_test_split\n",
        "\n",
        "X_train, X_test, y_train, y_test = train_test_split(X, y, test_size=0.2, random_state=42)\n",
        "\n",
        "# Verify shapes\n",
        "\n",
        "print(\"X_train shape:\", X_train.shape)\n",
        "print(\"X_test shape:\", X_test.shape)\n",
        "print(\"y_train shape:\", y_train.shape)\n",
        "print(\"y_test shape:\", y_test.shape)\n"
      ],
      "metadata": {
        "id": "th4-aZdN_7zj"
      },
      "execution_count": null,
      "outputs": []
    }
  ]
}